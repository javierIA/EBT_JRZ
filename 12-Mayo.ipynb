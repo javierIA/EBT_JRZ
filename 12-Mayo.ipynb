{
 "cells": [
  {
   "attachments": {},
   "cell_type": "markdown",
   "metadata": {},
   "source": [
    "## Funciones\n",
    "\n",
    "En Python, las funciones son bloques de código reutilizables que se utilizan para realizar tareas específicas. Permiten dividir programas en piezas más pequeñas y manejables, lo que facilita el desarrollo, la depuración y el mantenimiento del código.\n",
    "\n",
    "Aquí está una explicación general de cómo funcionan las funciones en Python:\n",
    "\n",
    "Definición de una función: Para crear una función en Python, se utiliza la palabra clave \"def\", seguida del nombre de la función y paréntesis que pueden contener los parámetros de entrada. Por ejemplo:\n",
    "\n"
   ]
  },
  {
   "cell_type": "code",
   "execution_count": 23,
   "metadata": {},
   "outputs": [],
   "source": [
    "def saludar(nombre):\n",
    "    print(\"Hola, \" + nombre + \"!\")\n"
   ]
  },
  {
   "attachments": {},
   "cell_type": "markdown",
   "metadata": {},
   "source": [
    "En este ejemplo, hemos definido una función llamada \"saludar\" que toma un parámetro llamado \"nombre\".\n",
    "\n",
    "Llamada a una función: Para utilizar una función, se llama por su nombre seguido de paréntesis, y se pueden proporcionar los argumentos necesarios según los parámetros definidos en la función. Por ejemplo:"
   ]
  },
  {
   "cell_type": "code",
   "execution_count": 24,
   "metadata": {},
   "outputs": [
    {
     "name": "stdout",
     "output_type": "stream",
     "text": [
      "Hola, Juan!\n"
     ]
    }
   ],
   "source": [
    "saludar(\"Juan\")\n"
   ]
  },
  {
   "attachments": {},
   "cell_type": "markdown",
   "metadata": {},
   "source": [
    "Esta llamada a la función \"saludar\" imprimirá \"Hola, Juan!\" en la salida.\n",
    "\n",
    "Parámetros y argumentos: Las funciones pueden aceptar parámetros, que son variables utilizadas para recibir valores de entrada. Cuando se llama a la función, se proporcionan los argumentos, que son los valores reales que se pasan a los parámetros. Por ejemplo:"
   ]
  },
  {
   "cell_type": "code",
   "execution_count": 25,
   "metadata": {},
   "outputs": [
    {
     "name": "stdout",
     "output_type": "stream",
     "text": [
      "La suma es: 8\n"
     ]
    }
   ],
   "source": [
    "def suma(a, b):\n",
    "    resultado = a + b\n",
    "    print(\"La suma es:\", resultado)\n",
    "\n",
    "suma(3, 5)\n"
   ]
  },
  {
   "attachments": {},
   "cell_type": "markdown",
   "metadata": {},
   "source": [
    "En este caso, la función \"suma\" tiene dos parámetros, \"a\" y \"b\", y se llama a la función con los argumentos 3 y 5. La función calculará la suma de los dos números y mostrará el resultado.\n",
    "\n",
    "Valor de retorno: Una función puede devolver un valor utilizando la palabra clave \"return\". Esto permite capturar y utilizar el resultado de una función en otras partes del programa. Por ejemplo:"
   ]
  },
  {
   "attachments": {},
   "cell_type": "markdown",
   "metadata": {},
   "source": [
    "Valor de retorno: Una función puede devolver un valor utilizando la palabra clave \"return\". Esto permite capturar y utilizar el resultado de una función en otras partes del programa. Por ejemplo:"
   ]
  },
  {
   "cell_type": "code",
   "execution_count": 26,
   "metadata": {},
   "outputs": [
    {
     "name": "stdout",
     "output_type": "stream",
     "text": [
      "El resultado de la multiplicación es: 24\n"
     ]
    }
   ],
   "source": [
    "def multiplicar(a, b):\n",
    "    resultado = a * b\n",
    "    return resultado\n",
    "\n",
    "res = multiplicar(4, 6)\n",
    "print(\"El resultado de la multiplicación es:\", res)\n"
   ]
  },
  {
   "attachments": {},
   "cell_type": "markdown",
   "metadata": {},
   "source": [
    "En este caso, la función \"multiplicar\" calcula el producto de dos números y devuelve el resultado. Luego, almacenamos el valor de retorno en la variable \"res\" y lo imprimimos.\n",
    "\n",
    "Estos son los conceptos básicos sobre cómo funcionan las funciones en Python. Son bloques de código autónomos que se pueden reutilizar y llamar en diferentes partes del programa para realizar tareas específicas. Las funciones son una parte fundamental de la programación estructurada y fomentan la modularidad y la legibilidad del código.\n",
    "\n",
    "\n",
    "\n",
    "\n"
   ]
  },
  {
   "attachments": {},
   "cell_type": "markdown",
   "metadata": {},
   "source": [
    "### Caso práctico\n",
    "Usar funciones es una buena práctica en muchos casos dentro de la programación. Aquí tienes algunos casos comunes en los que el uso de funciones es recomendable:\n",
    "\n",
    "- Modularidad: Las funciones permiten dividir el código en partes más pequeñas y manejables. Esto facilita la comprensión del programa y su mantenimiento, ya que cada función se encarga de realizar una tarea específica.\n",
    "\n",
    "- Reutilización del código: Al definir una función, puedes reutilizarla en diferentes partes de tu programa. Esto evita la duplicación de código y promueve la eficiencia y la consistencia en tu código.\n",
    "\n",
    "- Abstracción: Las funciones permiten abstraer ciertas tareas complejas detrás de una interfaz simple. Puedes llamar a una función para realizar una operación sin tener que preocuparte por los detalles internos de cómo se realiza esa operación.\n",
    "\n",
    "- Legibilidad: Utilizar funciones con nombres descriptivos mejora la legibilidad del código. Al leer el nombre de la función, otros programadores pueden entender rápidamente qué hace esa parte del código sin necesidad de revisar todos los detalles de la implementación.\n",
    "\n",
    "- Facilidad de depuración: Al dividir el código en funciones más pequeñas, es más fácil identificar y correr errores. Puedes aislar y probar cada función por separado, lo que facilita la detección y solución de problemas.\n",
    "\n",
    "- Paso de parámetros: Las funciones permiten el paso de parámetros, lo que te brinda flexibilidad para adaptar el comportamiento de la función según los valores proporcionados. Puedes modificar los parámetros de entrada para que la función sea más versátil y pueda trabajar con diferentes datos.\n",
    "\n",
    "- Encapsulación: Las funciones ayudan a encapsular cierta lógica o comportamiento en un bloque de código independiente. Esto mejora la organización y estructura del programa, evitando que ciertas partes del código interactúen directamente entre sí."
   ]
  },
  {
   "attachments": {},
   "cell_type": "markdown",
   "metadata": {},
   "source": [
    "## Funciones son para no estar repitiendo codigo "
   ]
  },
  {
   "cell_type": "code",
   "execution_count": 27,
   "metadata": {},
   "outputs": [
    {
     "name": "stdout",
     "output_type": "stream",
     "text": [
      "8\n",
      "-2\n",
      "15\n",
      "0\n",
      "8\n",
      "-2\n",
      "15\n",
      "0.6\n",
      "Operación no válida\n"
     ]
    }
   ],
   "source": [
    "resultado = 0\n",
    "def sumar(a, b):\n",
    "    resultado = a + b\n",
    "    return resultado\n",
    "def resta(a, b):\n",
    "    resultado = a - b\n",
    "    return resultado\n",
    "def multiplicar(a, b):\n",
    "    resultado = a * b\n",
    "    return resultado\n",
    "def dividir(a, b):\n",
    "    dividir = a / b\n",
    "    return resultado\n",
    "print(sumar(3, 5))\n",
    "print(resta(3, 5))\n",
    "print(multiplicar(3, 5))\n",
    "print(dividir(3, 5))\n",
    "\n",
    "# Buena Practica de Programación\n",
    "def mate(a, b, operacion):\n",
    "    if operacion == \"suma\":\n",
    "        return a + b\n",
    "    elif operacion == \"resta\":\n",
    "        return a - b\n",
    "    elif operacion == \"multiplicacion\":\n",
    "        return a * b\n",
    "    elif operacion == \"division\":\n",
    "        return a / b\n",
    "    else:\n",
    "        return \"Operación no válida\"\n",
    "    \n",
    "print(mate(3, 5, \"suma\"))\n",
    "print(mate(3, 5, \"resta\"))\n",
    "print(mate(3, 5, \"multiplicacion\"))\n",
    "print(mate(3, 5, \"division\"))\n",
    "print(mate(3, 5, \"potencia\"))\n",
    "\n",
    "    "
   ]
  },
  {
   "attachments": {},
   "cell_type": "markdown",
   "metadata": {},
   "source": [
    "## (Opcional) Funciones lambda (Anónimas)\n",
    "Las funciones lambda, también conocidas como funciones anónimas, son una forma compacta y concisa de definir funciones en Python. A diferencia de las funciones regulares definidas con la palabra clave \"def\", las funciones lambda se crean utilizando la palabra clave \"lambda\" y se pueden usar en situaciones específicas. Aquí hay algunos casos en los que puede ser apropiado utilizar funciones lambda:\n",
    "\n",
    "Funciones de una sola expresión: Las funciones lambda son ideales cuando necesitas definir una función simple y de una sola expresión. Por ejemplo, para realizar una operación matemática básica, como el cálculo de un promedio:"
   ]
  },
  {
   "attachments": {},
   "cell_type": "markdown",
   "metadata": {},
   "source": [
    "Funciones de una sola expresión: Las funciones lambda son ideales cuando necesitas definir una función simple y de una sola expresión. Por ejemplo, para realizar una operación matemática básica, como el cálculo de un promedio:\n"
   ]
  },
  {
   "cell_type": "code",
   "execution_count": 29,
   "metadata": {},
   "outputs": [
    {
     "name": "stdout",
     "output_type": "stream",
     "text": [
      "2.5\n",
      "55\n"
     ]
    }
   ],
   "source": [
    "promedio = lambda x, y: (x + y) / 2\n",
    "suma = lambda a,b,c,d,e,f,g,h,i,j: a+b+c+d+e+f+g+h+i+j\n",
    "print(promedio(2, 3))\n",
    "print(suma(1,2,3,4,5,6,7,8,9,10))"
   ]
  },
  {
   "cell_type": "code",
   "execution_count": 31,
   "metadata": {},
   "outputs": [
    {
     "name": "stdout",
     "output_type": "stream",
     "text": [
      "Hola!\n"
     ]
    }
   ],
   "source": [
    "def saludar(on_callback):\n",
    "    on_callback()\n",
    "    \n",
    "saludar(lambda: print(\"Hola!\"))"
   ]
  },
  {
   "attachments": {},
   "cell_type": "markdown",
   "metadata": {},
   "source": [
    "## Casos avanzados \n",
    "En Python, el parámetro especial *args se utiliza para permitir a una función recibir un número variable de argumentos posicionales. La sintaxis *args permite pasar múltiples argumentos sin necesidad de especificar la cantidad exacta de ellos al definir la función. Aquí tienes una explicación más detallada:\n",
    "\n",
    "Definición de la función con *args: Al definir una función, puedes incluir *args como uno de los parámetros. Por ejemplo:"
   ]
  },
  {
   "cell_type": "code",
   "execution_count": 39,
   "metadata": {},
   "outputs": [
    {
     "name": "stdout",
     "output_type": "stream",
     "text": [
      "('🍺', '🍺', '🍺', '🍺', '🍺', '🍺', '🍺', '🍺', '🍺', '🍺')\n",
      "{'marca': 'Corona', 'tipo': 'Clara', 'porcentaje': 4.5, 'precio': 20.0}\n"
     ]
    }
   ],
   "source": [
    "def Cerveza(*args):\n",
    "    print(args)\n",
    "    \n",
    "Cerveza(\"🍺\", \"🍺\", \"🍺\", \"🍺\", \"🍺\", \"🍺\", \"🍺\", \"🍺\", \"🍺\", \"🍺\")\n",
    "\n",
    "def Cerveza(**kwargs):\n",
    "    print(kwargs)\n",
    "\n",
    "cerveza = {\n",
    "    \"marca\": \"Corona\",\n",
    "    \"tipo\": \"Clara\",\n",
    "    \"porcentaje\": 4.5,\n",
    "    \"precio\": 20.00\n",
    "}\n",
    "Cerveza(**cerveza)\n"
   ]
  },
  {
   "attachments": {},
   "cell_type": "markdown",
   "metadata": {},
   "source": [
    "\n",
    "## El ciclo for \n",
    "Es una estructura de control en Python que se utiliza para iterar sobre una secuencia de elementos, como una lista, una tupla, un diccionario o un rango de números. Proporciona una forma conveniente de ejecutar un bloque de código repetidamente para cada elemento de la secuencia. Aquí tienes una explicación detallada del ciclo for en Python:\n",
    "\n",
    "Sintaxis básica: La sintaxis básica del ciclo for en Python es la siguiente"
   ]
  },
  {
   "cell_type": "code",
   "execution_count": 59,
   "metadata": {},
   "outputs": [
    {
     "name": "stdout",
     "output_type": "stream",
     "text": [
      "Corona\n",
      "Clara\n",
      "4.5\n",
      "22.0\n",
      "\n",
      "Indio\n",
      "Oscura\n",
      "4.5\n",
      "20.0\n",
      "\n",
      "Victoria\n",
      "Clara\n",
      "4.5\n",
      "20.0\n",
      "\n",
      "Modelo\n",
      "Clara\n",
      "4.5\n",
      "20.0\n",
      "\n"
     ]
    }
   ],
   "source": [
    "Cervezas = [\n",
    "    {\n",
    "        \"marca\": \"Corona\",\n",
    "        \"tipo\": \"Clara\",\n",
    "        \"porcentaje\": 4.5,\n",
    "        \"precio\": 22.00\n",
    "    },\n",
    "    {\n",
    "        \"marca\": \"Indio\",\n",
    "        \"tipo\": \"Oscura\",\n",
    "        \"porcentaje\": 4.5,\n",
    "        \"precio\": 20.00\n",
    "    },\n",
    "    {\n",
    "        \"marca\": \"Victoria\",\n",
    "        \"tipo\": \"Clara\",\n",
    "        \"porcentaje\": 4.5,\n",
    "        \"precio\": 20.00\n",
    "    },\n",
    "    {\n",
    "        \"marca\": \"Modelo\",\n",
    "        \"tipo\": \"Clara\",\n",
    "        \"porcentaje\": 4.5,\n",
    "        \"precio\": 20.00\n",
    "    }]\n",
    "\n",
    "for Cerveza in Cervezas:\n",
    "    print(Cerveza[\"marca\"])\n",
    "    print(Cerveza[\"tipo\"])\n",
    "    print(Cerveza[\"porcentaje\"])\n",
    "    print(Cerveza[\"precio\"])\n",
    "    print(\"\")\n",
    "    \n",
    "    "
   ]
  },
  {
   "cell_type": "code",
   "execution_count": 56,
   "metadata": {},
   "outputs": [
    {
     "name": "stdout",
     "output_type": "stream",
     "text": [
      "{'marca': 'Corona', 'tipo': 'Clara', 'porcentaje': 4.5, 'precio': 20.0}\n",
      "{'marca': 'Indio', 'tipo': 'Oscura', 'porcentaje': 4.5, 'precio': 20.0}\n",
      "{'marca': 'Victoria', 'tipo': 'Clara', 'porcentaje': 4.5, 'precio': 20.0}\n",
      "{'marca': 'Modelo', 'tipo': 'Clara', 'porcentaje': 4.5, 'precio': 20.0}\n"
     ]
    }
   ],
   "source": [
    "for Cerveza in range(0,4):\n",
    "    print(Cervezas[Cerveza])"
   ]
  },
  {
   "attachments": {},
   "cell_type": "markdown",
   "metadata": {},
   "source": [
    "Uso de la instrucción break y continue: Dentro de un ciclo for, puedes utilizar la instrucción break para salir del ciclo prematuramente si se cumple una condición. Por otro lado, puedes utilizar la instrucción continue para saltar la iteración actual y pasar a la siguiente. Por ejemplo:\n"
   ]
  },
  {
   "cell_type": "code",
   "execution_count": 67,
   "metadata": {},
   "outputs": [
    {
     "name": "stdout",
     "output_type": "stream",
     "text": [
      "La cerveza Corona es cara.\n"
     ]
    }
   ],
   "source": [
    "for cerveza in Cervezas:\n",
    "    if cerveza[\"precio\"] > 20:\n",
    "        print(f\"La cerveza {cerveza['marca']} es cara.\")\n",
    "        #print(\"La cerveza \" +cerveza['marca'] + \"es cara\")\n",
    "        #f srive para incrustar variables a la cadena \n",
    "        break  # Sale del ciclo for si encuentra una cerveza cara\n",
    "    else:\n",
    "        print(f\"La cerveza {cerveza['marca']} es económica.\")\n",
    "        continue  # Salta a la siguiente iteración si la cerveza es económica\n",
    "\n",
    "    print(\"Esta línea no se imprimirá si se encuentra una cerveza cara\")\n"
   ]
  },
  {
   "attachments": {},
   "cell_type": "markdown",
   "metadata": {},
   "source": [
    "## Ciclo While\n",
    "El ciclo while en Python se utiliza para repetir un bloque de código mientras se cumpla una condición. A diferencia del ciclo for, el ciclo while no se basa en una secuencia predefinida, sino que se ejecuta mientras una expresión booleana sea verdadera. Aquí tienes una explicación básica del ciclo while:\n",
    "\n",
    "Sintaxis básica: La sintaxis básica del ciclo while en Python es la siguiente:\n",
    "    \n",
    "    while condicion:\n",
    "    \n",
    "Aquí, condicion es una expresión booleana que se evalúa en cada iteración. Mientras la condición sea verdadera, el bloque de código indentado debajo del while se ejecutará repetidamente.\n",
    "\n",
    "Evaluación de la condición: Antes de cada iteración del ciclo while, se evalúa la condición. Si la condición es verdadera, el bloque de código dentro del while se ejecuta. Si la condición es falsa, el programa sale del ciclo while y continúa con el resto del código.\n",
    "\n",
    "Actualización de la condición: Es importante asegurarse de que la condición dentro del ciclo while se actualice en algún momento para evitar un bucle infinito. Si la condición no se modifica, el ciclo while continuará ejecutándose indefinidamente.\n",
    "\n",
    "Ejemplo de ciclo while: Aquí tienes un ejemplo sencillo de un ciclo while que imprime los números del 1 al 5:"
   ]
  },
  {
   "cell_type": "code",
   "execution_count": 68,
   "metadata": {},
   "outputs": [
    {
     "name": "stdout",
     "output_type": "stream",
     "text": [
      "1\n",
      "2\n",
      "3\n",
      "4\n",
      "5\n"
     ]
    }
   ],
   "source": [
    "contador = 1\n",
    "while contador <= 5:\n",
    "    print(contador)\n",
    "    contador += 1"
   ]
  },
  {
   "cell_type": "code",
   "execution_count": 81,
   "metadata": {},
   "outputs": [
    {
     "name": "stdout",
     "output_type": "stream",
     "text": [
      "0\n",
      "1\n",
      "2\n",
      "3\n",
      "4\n",
      "Hola\n"
     ]
    }
   ],
   "source": [
    "contador = 0\n",
    "while contador < 5:\n",
    "    print(contador)\n",
    "    contador += 1\n",
    "\n",
    "\n",
    "while True:\n",
    "    print(\"Hola\")\n",
    "    break\n"
   ]
  },
  {
   "attachments": {},
   "cell_type": "markdown",
   "metadata": {},
   "source": []
  }
 ],
 "metadata": {
  "kernelspec": {
   "display_name": "Python 3",
   "language": "python",
   "name": "python3"
  },
  "language_info": {
   "codemirror_mode": {
    "name": "ipython",
    "version": 3
   },
   "file_extension": ".py",
   "mimetype": "text/x-python",
   "name": "python",
   "nbconvert_exporter": "python",
   "pygments_lexer": "ipython3",
   "version": "3.11.3"
  },
  "orig_nbformat": 4
 },
 "nbformat": 4,
 "nbformat_minor": 2
}
