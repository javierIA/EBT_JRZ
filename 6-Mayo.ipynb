{
 "cells": [
  {
   "attachments": {},
   "cell_type": "markdown",
   "id": "c15848ae",
   "metadata": {},
   "source": [
    "<img src=\"img/logo.jpg\" width=30%>\n"
   ]
  },
  {
   "attachments": {},
   "cell_type": "markdown",
   "id": "88fbdb4f",
   "metadata": {},
   "source": [
    "# EBT Jrz Primeros pasos en python\n",
    "### Javier Flores  \n",
    "\n",
    "¡Hola! Si estás buscando dar tus primeros pasos en Python, ¡estás en el lugar correcto! Aquí te dejo algunos consejos y recursos útiles para empezar a aprender y practicar con este lenguaje de programación:\n",
    "\n",
    "1. Instala Python en tu computadora. Puedes descargar la última versión desde el sitio web oficial de Python: https://www.python.org/downloads/\n",
    "\n",
    "2. Una vez instalado, puedes utilizar el IDLE de Python para escribir y ejecutar código. También puedes utilizar editores de texto más avanzados como VS Code o PyCharm.\n",
    "\n",
    "3. Comienza por aprender los fundamentos de la sintaxis de Python: variables, tipos de datos, estructuras de control de flujo (condicionales, bucles), funciones y clases.\n"
   ]
  },
  {
   "attachments": {},
   "cell_type": "markdown",
   "id": "752771e3",
   "metadata": {},
   "source": [
    "## Comprobar si Python esta instalado\n",
    "Python es un lenguaje de programación muy popular y ampliamente utilizado. Si estás interesado en aprender a programar con Python, lo primero que debes hacer es comprobar si Python está instalado en tu sistema.\n",
    "\n",
    "Para comprobar si Python está instalado en tu sistema, puedes abrir una terminal o símbolo del sistema y escribir el siguiente comando:"
   ]
  },
  {
   "cell_type": "code",
   "execution_count": 42,
   "id": "ef89d27d",
   "metadata": {},
   "outputs": [
    {
     "name": "stdout",
     "output_type": "stream",
     "text": [
      "Python 3.11.3\n"
     ]
    }
   ],
   "source": [
    "!python --version\n"
   ]
  },
  {
   "attachments": {},
   "cell_type": "markdown",
   "id": "07348d81",
   "metadata": {},
   "source": [
    "Si Python no está instalado, la terminal mostrará un mensaje de error indicando que el comando python no se reconoce. En este caso, deberás instalar Python en tu sistema antes de poder utilizarlo.\n",
    "\n"
   ]
  },
  {
   "attachments": {},
   "cell_type": "markdown",
   "id": "220ea299",
   "metadata": {},
   "source": [
    "## Ejecutar código en Python\n",
    "Para ejecutar código en Python, hay diferentes opciones disponibles, entre las cuales se incluyen:\n",
    "\n",
    "Utilizar la consola o el terminal:\n",
    "Abre la consola o el terminal de tu sistema operativo y escribe python seguido del nombre del archivo que contiene el código que deseas ejecutar. Por ejemplo:\n"
   ]
  },
  {
   "cell_type": "code",
   "execution_count": 43,
   "id": "8d24949b",
   "metadata": {},
   "outputs": [
    {
     "name": "stdout",
     "output_type": "stream",
     "text": [
      "¡Vamos a servir 3 cervezas!\n",
      "\n",
      "Cervezas servidas: \n",
      "Cervezas restantes: 🥛🥛\n",
      "Llenando tu cerveza 🔵🔵^C\n",
      "Traceback (most recent call last):\n",
      "  File \"/home/qwerty/Documentos/EBT/src/welcome.py\", line 49, in <module>\n",
      "    servir_cervezas(cantidad_cervezas)  # Cambia este número para servir una cantidad diferente de cervezas\n",
      "    ^^^^^^^^^^^^^^^^^^^^^^^^^^^^^^^^^^\n",
      "  File \"/home/qwerty/Documentos/EBT/src/welcome.py\", line 38, in servir_cervezas\n",
      "    sleep(6)\n",
      "KeyboardInterrupt\n"
     ]
    }
   ],
   "source": [
    "!python src/welcome.py 3"
   ]
  },
  {
   "attachments": {},
   "cell_type": "markdown",
   "id": "7e6114b0",
   "metadata": {},
   "source": [
    "Donde src/welcome.py es el nombre del archivo que contiene el código que deseas ejecutar.\n",
    "\n",
    "Utilizar un IDE (Entorno de Desarrollo Integrado):\n",
    "Los IDEs son programas diseñados específicamente para desarrollar y ejecutar código. Algunos ejemplos populares de IDEs para Python son PyCharm, Visual Studio Code y Spyder. Para ejecutar código en un IDE, simplemente debes abrir el archivo que contiene el código y ejecutarlo desde allí.\n",
    "\n",
    "Utilizar Jupyter Notebook:\n",
    "Jupyter Notebook es una aplicación web que te permite crear y compartir documentos que contienen código, texto, gráficos y otros elementos. Para ejecutar código en Jupyter Notebook, debes crear un nuevo notebook, escribir el código en una celda y ejecutarla.\n",
    "\n",
    "Utilizar un paquete de Anaconda:\n",
    "Anaconda es una plataforma de código abierto para la ciencia de datos que incluye una distribución de Python, así como cientos de paquetes de software especializados para análisis de datos, aprendizaje automático y visualización. Para ejecutar código Python utilizando Anaconda, debes abrir Anaconda Navigator, crear un nuevo ambiente, instalar las bibliotecas necesarias y ejecutar el código desde allí.\n",
    "\n",
    "En resumen, para ejecutar código en Python puedes utilizar la consola o el terminal, un IDE, Jupyter Notebook o un paquete de Anaconda, dependiendo de tus necesidades y preferencias."
   ]
  },
  {
   "attachments": {},
   "cell_type": "markdown",
   "id": "b2560856",
   "metadata": {},
   "source": [
    "# Hola mundo y variables"
   ]
  },
  {
   "attachments": {},
   "cell_type": "markdown",
   "id": "da04a9e8",
   "metadata": {},
   "source": [
    "Esta celda de código muestra un ejemplo de variables temáticas relacionadas con la cerveza en Python. Primero, se imprime el mensaje \"Hola Mundo\" utilizando el comando print(). Luego, se definen algunas variables que representan características de una cerveza, como el nombre, el precio, las calorías, si es orgánica o no, y los ingredientes.\n",
    "\n",
    "Cada variable se define utilizando un tipo de datos diferente, como cadenas de texto, números decimales, números enteros y valores booleanos. Además, una de las variables se define como una lista de cadenas de texto.\n",
    "\n",
    "Por último, se utilizan los comandos print() para imprimir cada una de las variables en la consola.\n",
    "\n",
    "Este ejemplo puede ser útil para principiantes que deseen experimentar con variables en Python y comprender cómo se pueden utilizar diferentes tipos de datos para representar diferentes tipos de información."
   ]
  },
  {
   "cell_type": "code",
   "execution_count": null,
   "id": "24035024",
   "metadata": {},
   "outputs": [
    {
     "name": "stdout",
     "output_type": "stream",
     "text": [
      "¡Hola Mundo!\n",
      "Nombre: IPA\n",
      "Precio: 3.5\n",
      "Calorías: 200\n",
      "¿Es orgánica? False\n",
      "Ingredientes: ['lúpulo', 'malta', 'levadura', 'agua']\n"
     ]
    }
   ],
   "source": [
    "# Hola Mundo\n",
    "print(\"¡Hola Mundo!\") # Imprime un mensaje en la consola\n",
    "\n",
    "# Variables relacionadas con la cerveza\n",
    "nombre_cerveza = \"IPA\" # Cadena de texto\n",
    "precio_cerveza = 3.50 # Número decimal\n",
    "calorias_cerveza = 200 # Número entero\n",
    "es_organica = False # Valor booleano\n",
    "ingredientes = [\"lúpulo\", \"malta\", \"levadura\", \"agua\"] # Lista de cadenas de texto\n",
    "\n",
    "# Imprimir las variables\n",
    "print(\"Nombre:\", nombre_cerveza) # Imprime una variable en la consola\n",
    "print(\"Precio:\", precio_cerveza) # Imprime una variable en la consola\n",
    "print(\"Calorías:\", calorias_cerveza) # Imprime una variable en la consola\n",
    "print(\"¿Es orgánica?\", es_organica) # Imprime una variable en la consola\n",
    "print(\"Ingredientes:\", ingredientes) # Imprime una variable en la consola\n"
   ]
  },
  {
   "cell_type": "code",
   "execution_count": 45,
   "id": "8addfb01",
   "metadata": {},
   "outputs": [
    {
     "name": "stdout",
     "output_type": "stream",
     "text": [
      "Nombre: CARTA <class 'str'>\n",
      "Precio: 32.0 <class 'float'>\n",
      "Calorías: 200 <class 'int'>\n",
      "¿Es orgánica? False <class 'bool'>\n",
      "Ingredientes: ['Maiz', 'AZUCAR', 'TRIGO', 'AGUA'] <class 'list'>\n"
     ]
    }
   ],
   "source": [
    "# Solicitar información sobre la cerveza\n",
    "nombre_cerveza = input(\"Ingresa el nombre de la cerveza: \")\n",
    "precio_cerveza = float(input(\"Ingresa el precio de la cerveza: \"))\n",
    "calorias_cerveza = int(input(\"Ingresa las calorías de la cerveza: \"))\n",
    "es_organica = input(\"¿Es orgánica la cerveza? (sí/no): \").lower() == \"sí\"\n",
    "ingredientes = input(\"Ingresa los ingredientes de la cerveza (separados por comas): \").split(\",\")\n",
    "\n",
    "# Imprimir la información de la cerveza\n",
    "print(\"Nombre:\", nombre_cerveza, type(nombre_cerveza))\n",
    "print(\"Precio:\", precio_cerveza, type(precio_cerveza))\n",
    "print(\"Calorías:\", calorias_cerveza, type(calorias_cerveza))\n",
    "print(\"¿Es orgánica?\", es_organica, type(es_organica))\n",
    "print(\"Ingredientes:\", ingredientes, type(ingredientes))\n"
   ]
  },
  {
   "attachments": {},
   "cell_type": "markdown",
   "id": "965c3156",
   "metadata": {},
   "source": [
    "## Cálculo del depósito en Python\n",
    "En este programa, se utiliza Python para calcular el costo total y el depósito total de una compra de caguamas. Para hacer esto, se utilizan los siguientes conceptos:\n",
    "\n",
    "Variables: Se utilizan variables para almacenar el precio de una caguama, el depósito que se cobra por una caguama, y la cantidad de caguamas que se están comprando. Las variables se definen utilizando un nombre descriptivo y un valor, y se pueden utilizar en operaciones matemáticas y otros cálculos.\n",
    "\n",
    "Input del usuario: Se utiliza la función input() para solicitar al usuario que ingrese la cantidad de caguamas que está comprando. La entrada del usuario se almacena en una variable y se convierte en un número entero utilizando la función int().\n",
    "\n",
    "Operaciones matemáticas: Se utilizan operaciones matemáticas básicas, como la multiplicación y la suma, para calcular el costo total y el depósito total de la compra de caguamas. El costo total se calcula multiplicando el precio de una caguama por la cantidad de caguamas que se están comprando. El depósito total se calcula multiplicando el depósito por la cantidad de caguamas que se están comprando.\n",
    "\n",
    "Impresión en la consola: Se utilizan los comandos print() para imprimir el costo total y el depósito total en la consola. Los resultados se formatean como cadenas de texto utilizando el operador de concatenación +."
   ]
  },
  {
   "cell_type": "code",
   "execution_count": 49,
   "id": "23ca1ade",
   "metadata": {},
   "outputs": [
    {
     "name": "stdout",
     "output_type": "stream",
     "text": [
      "El costo total de las caguamas es: 360.0\n",
      "El depósito total de las caguamas es: 120.0\n"
     ]
    }
   ],
   "source": [
    "# Definir el precio y el depósito de la caguama\n",
    "precio_caguama = 30.0\n",
    "deposito_caguama = 10.0\n",
    "\n",
    "# Solicitar la cantidad de caguamas que se están comprando\n",
    "cantidad_caguamas = int(input(\"¿Cuántas caguamas estás comprando? \"))\n",
    "\n",
    "# Calcular el costo total y el depósito total\n",
    "costo_total = cantidad_caguamas * precio_caguama\n",
    "deposito_total = cantidad_caguamas * deposito_caguama\n",
    "\n",
    "# Imprimir el costo total y el depósito total\n",
    "print(\"El costo total de las caguamas es:\", costo_total)\n",
    "print(\"El depósito total de las caguamas es:\", deposito_total)\n"
   ]
  },
  {
   "attachments": {},
   "cell_type": "markdown",
   "id": "3ab3126b",
   "metadata": {},
   "source": [
    "## La estructura if en Python\n",
    "\n",
    "En esta estructura, condicion es una expresión o una serie de expresiones que se evalúan como verdaderas o falsas. Si la condición es verdadera, se ejecuta el código que sigue al if. Si la condición es falsa, se ejecuta el código que sigue al else.\n",
    "\n",
    "En el ejemplo anterior, se utiliza la estructura if para aplicar un descuento del 10% en el depósito si el precio de la caguama es mayor a 25.0. La condición precio_caguama > 25.0 evalúa si el precio de la caguama es mayor a 25.0, y si es verdadera, se ejecuta el bloque if. En este bloque, se multiplica el depósito total por 0.9 para aplicar el descuento.\n",
    "\n",
    "Este ejemplo puede ser útil para comprender cómo utilizar la estructura if en Python para tomar decisiones basadas en condiciones específicas. ¡A seguir practicando!"
   ]
  },
  {
   "cell_type": "code",
   "execution_count": 50,
   "id": "cdd41d08",
   "metadata": {},
   "outputs": [
    {
     "name": "stdout",
     "output_type": "stream",
     "text": [
      "El costo total de las caguamas es: 24.0\n",
      "El depósito total de las caguamas es: 20.0\n"
     ]
    }
   ],
   "source": [
    "# Solicitar el precio de la caguama al usuario\n",
    "precio_caguama = float(input(\"Ingresa el precio de una caguama: \"))\n",
    "\n",
    "# Definir el depósito de la caguama\n",
    "deposito_caguama = 10.0\n",
    "\n",
    "# Solicitar la cantidad de caguamas que se están comprando\n",
    "cantidad_caguamas = int(input(\"¿Cuántas caguamas estás comprando? \"))\n",
    "\n",
    "# Calcular el costo total y el depósito total\n",
    "costo_total = cantidad_caguamas * precio_caguama\n",
    "deposito_total = cantidad_caguamas * deposito_caguama\n",
    "\n",
    "# Aplicar un descuento en el depósito si el precio de la caguama es mayor a 25.0\n",
    "if precio_caguama > 25.0:\n",
    "    deposito_total = deposito_total * 0.9\n",
    "\n",
    "# Imprimir el costo total y el depósito total\n",
    "print(\"El costo total de las caguamas es:\", costo_total)\n",
    "print(\"El depósito total de las caguamas es:\", deposito_total)\n"
   ]
  },
  {
   "attachments": {},
   "cell_type": "markdown",
   "id": "4eb8c09f",
   "metadata": {},
   "source": [
    "## Estructuras\n",
    "### Listas en Python\n",
    "\n",
    "Una lista es una estructura de datos que se utiliza para almacenar una colección ordenada de elementos en Python. Las listas se crean utilizando corchetes [] y los elementos de la lista se separan por comas. Por ejemplo:"
   ]
  },
  {
   "cell_type": "code",
   "execution_count": 51,
   "id": "3f5f137a",
   "metadata": {},
   "outputs": [],
   "source": [
    "cervezas = [\"Carta Blanca\", \"Tekate\", \"Corona\", \"Sol\"]\n"
   ]
  },
  {
   "attachments": {},
   "cell_type": "markdown",
   "id": "28adab32",
   "metadata": {},
   "source": [
    "Las listas pueden contener elementos de diferentes tipos de datos, como números, cadenas de texto, booleanos e incluso otras listas. Los elementos de una lista se pueden acceder y modificar utilizando índices, que comienzan en 0 para el primer elemento de la lista. Por ejemplo:"
   ]
  },
  {
   "cell_type": "code",
   "execution_count": 52,
   "id": "93a9c63d",
   "metadata": {},
   "outputs": [
    {
     "name": "stdout",
     "output_type": "stream",
     "text": [
      "Carta Blanca\n",
      "Victoria\n",
      "['Victoria', 1, 'Corona', 2, 'Sol', 3]\n"
     ]
    }
   ],
   "source": [
    "cervezas = [\"Carta Blanca\", 1, \"Corona\", 2, \"Sol\", 3]\n",
    "print(cervezas[0])\n",
    "cervezas[0] = \"Victoria\"\n",
    "print(cervezas[0])\n",
    "print(cervezas)"
   ]
  },
  {
   "attachments": {},
   "cell_type": "markdown",
   "id": "4bae17e3",
   "metadata": {},
   "source": [
    "### Tuplas en Python\n",
    "\n",
    "Una tupla es una estructura de datos similar a una lista, pero es inmutable, lo que significa que no se pueden agregar, eliminar ni modificar elementos después de crear la tupla. Las tuplas se crean utilizando paréntesis () y los elementos de la tupla se separan por comas. Por ejemplo:"
   ]
  },
  {
   "cell_type": "code",
   "execution_count": 54,
   "id": "d0e2dea0",
   "metadata": {},
   "outputs": [
    {
     "name": "stdout",
     "output_type": "stream",
     "text": [
      "Carta Blanca\n",
      "('Carta Blanca', 1, 'Corona', 2, 'Sol', 3)\n"
     ]
    }
   ],
   "source": [
    "cervezas =( \"Carta Blanca\", 1, \"Corona\", 2, \"Sol\", 3)\n",
    "print(cervezas[0])\n",
    "#cervezas[0] = \"Victoria\"\n",
    "#print(cervezas[0])\n",
    "print(cervezas)\n"
   ]
  },
  {
   "attachments": {},
   "cell_type": "markdown",
   "id": "3dc523c3",
   "metadata": {},
   "source": [
    "Diccionarios en Python\n",
    "Un diccionario es una estructura de datos que se utiliza para almacenar pares clave-valor en Python. Los diccionarios se crean utilizando llaves {} y los pares clave-valor se separan por comas y se pueden separar por dos puntos : o por un signo igual =. Por ejemplo:"
   ]
  },
  {
   "cell_type": "code",
   "execution_count": 59,
   "id": "114b3bbe",
   "metadata": {},
   "outputs": [],
   "source": [
    "cervezas = {\"Carta Blanca\": 30, \"Corona\": 40, \"Sol\": 45}\n",
    "\n"
   ]
  },
  {
   "attachments": {},
   "cell_type": "markdown",
   "id": "c1e6c07c",
   "metadata": {},
   "source": [
    "Los valores de un diccionario se pueden acceder y modificar utilizando las claves, que son únicas para cada par clave-valor. Por ejemplo:"
   ]
  },
  {
   "cell_type": "code",
   "execution_count": 60,
   "id": "fc70be2e",
   "metadata": {},
   "outputs": [
    {
     "name": "stdout",
     "output_type": "stream",
     "text": [
      "30\n",
      "43\n",
      "{'Carta Blanca': 43, 'Corona': 40, 'Sol': 45}\n"
     ]
    }
   ],
   "source": [
    "print(cervezas[\"Carta Blanca\"])\n",
    "cervezas[\"Carta Blanca\"] = 43\n",
    "print(cervezas[\"Carta Blanca\"])\n",
    "print(cervezas)"
   ]
  },
  {
   "attachments": {},
   "cell_type": "markdown",
   "id": "96b6a4ae",
   "metadata": {},
   "source": [
    "### Métodos de los diccionarios\n",
    "Los diccionarios en Python tienen varios métodos útiles que nos permiten trabajar con ellos de manera eficiente. Algunos de los métodos más comunes son:\n",
    "\n",
    "- keys(): Retorna una lista de todas las claves del diccionario.\n",
    "- values(): Retorna una lista de todos los valores del diccionario.\n",
    "- items(): Retorna una lista de tuplas, donde cada tupla contiene un par clave-valor del diccionario.\n",
    "- get(clave, valor_predeterminado): Retorna el valor correspondiente a una clave dada, o un valor predeterminado si la clave no existe en el diccionario.\n",
    "- pop(clave, valor_predeterminado): Remueve y retorna el valor correspondiente a una clave dada, o un valor predeterminado si la clave no existe en el diccionario.\n"
   ]
  },
  {
   "cell_type": "code",
   "execution_count": 61,
   "id": "140e5f26",
   "metadata": {},
   "outputs": [
    {
     "name": "stdout",
     "output_type": "stream",
     "text": [
      "dict_keys(['Carta Blanca', 'Corona', 'Sol'])\n",
      "dict_values([30, 40, 45])\n",
      "dict_items([('Carta Blanca', 30), ('Corona', 40), ('Sol', 45)])\n",
      "40\n",
      "30\n",
      "{'Corona': 40, 'Sol': 45}\n"
     ]
    }
   ],
   "source": [
    "cervezas = {\"Carta Blanca\": 30, \"Corona\": 40, \"Sol\": 45}\n",
    "\n",
    "print(cervezas.keys())  # Imprime dict_keys(['Carta Blanca', 'Corona', 'Sol'])\n",
    "\n",
    "# Imprimimos los valores del diccionario utilizando el método values()\n",
    "print(cervezas.values())  # Imprime dict_values([30, 40, 45])\n",
    "\n",
    "# Imprimimos los pares clave-valor del diccionario utilizando el método items()\n",
    "print(cervezas.items())  # Imprime dict_items([('Carta Blanca', 30), ('Corona', 40), ('Sol', 45)])\n",
    "\n",
    "# Obtenemos el precio de una cerveza utilizando el método get()\n",
    "precio_corona = cervezas.get(\"Corona\")\n",
    "print(precio_corona)  # Imprime 40\n",
    "\n",
    "# Removemos y obtenemos el precio de una cerveza utilizando el método pop()\n",
    "precio_carta_blanca = cervezas.pop(\"Carta Blanca\", None)\n",
    "print(precio_carta_blanca)  # Imprime 30\n",
    "print(cervezas)  # Imprime {'Corona': 40, 'Sol': 45}\n"
   ]
  },
  {
   "attachments": {},
   "cell_type": "markdown",
   "id": "0c03fac8",
   "metadata": {},
   "source": [
    "### Conjuntos en Python\n",
    "En Python, un conjunto (set) es una colección de elementos únicos, es decir, que no pueden haber elementos repetidos dentro del conjunto. Los conjuntos se definen utilizando llaves {} o la función set(). Por ejemplo:"
   ]
  },
  {
   "cell_type": "code",
   "execution_count": 66,
   "id": "96f73585",
   "metadata": {},
   "outputs": [
    {
     "name": "stdout",
     "output_type": "stream",
     "text": [
      "{'Sol', 'Carta Blanca', 'Corona', 'Victoria'}\n",
      "{'Miller', 'Sol', 'Carta Blanca', 'Budweiser', 'Corona'}\n",
      "{'Miller', 'Sol', 'Carta Blanca', 'Corona', 'Victoria', 'Budweiser'}\n",
      "{'Sol', 'Carta Blanca', 'Corona'}\n",
      "{'Victoria'}\n"
     ]
    }
   ],
   "source": [
    "cervezasMex =set([\"Carta Blanca\",\"Corona\", \"Sol\", \"Victoria\"])\n",
    "\n",
    "cervezasUsa =set([\"Carta Blanca\",\"Corona\", \"Sol\", \"Budweiser\", \"Miller\"])\n",
    "\n",
    "print(cervezasMex)\n",
    "print(cervezasUsa)\n",
    "\n",
    "union = cervezasMex.union(cervezasUsa)\n",
    "interaccion = cervezasMex.intersection(cervezasUsa)\n",
    "diferencia = cervezasMex.difference(cervezasUsa)        \n",
    "print(union)\n",
    "print(interaccion)                                                                                                                                                                                                                              \n",
    "print(diferencia)"
   ]
  },
  {
   "attachments": {},
   "cell_type": "markdown",
   "id": "fe1a9d76",
   "metadata": {},
   "source": [
    "### Estructura de datos frozenset\n",
    "El tipo de datos frozenset es una versión inmutable del tipo de datos set. A diferencia de los conjuntos normales, los frozenset no se pueden modificar una vez creados. Los frozenset se utilizan cuando se necesita un conjunto inmutable, como para usar como clave en un diccionario. Por ejemplo:\n",
    "\n"
   ]
  },
  {
   "cell_type": "code",
   "execution_count": null,
   "id": "fbe142b4",
   "metadata": {},
   "outputs": [],
   "source": [
    "# Creamos un conjunto de cervezas de Estados Unidos\n",
    "cervezasUsa = set([\"Carta Blanca\",\"Corona\", \"Sol\", \"Budweiser\", \"Miller\"])\n",
    "\n",
    "# Creamos un frozenset a partir del conjunto de cervezas\n",
    "cervezasUsa_frozenset = frozenset(cervezasUsa)\n",
    "\n",
    "# Imprimimos el frozenset\n",
    "print(cervezasUsa_frozenset)  # Imprime frozenset({'Budweiser', 'Carta Blanca', 'Corona', 'Sol', 'Miller'})\n"
   ]
  },
  {
   "attachments": {},
   "cell_type": "markdown",
   "id": "02bd79b2",
   "metadata": {},
   "source": [
    "En general, el uso de frozenset es una buena práctica cuando se tiene un conjunto de datos que no cambiará y que se utilizará varias veces en el código. Al ser inmutable, es más seguro y confiable que un conjunto normal, especialmente en casos donde se quiere asegurar que los datos no sean modificados por otras partes del código o por accidente."
   ]
  }
 ],
 "metadata": {
  "kernelspec": {
   "display_name": "Python 3 (ipykernel)",
   "language": "python",
   "name": "python3"
  },
  "language_info": {
   "codemirror_mode": {
    "name": "ipython",
    "version": 3
   },
   "file_extension": ".py",
   "mimetype": "text/x-python",
   "name": "python",
   "nbconvert_exporter": "python",
   "pygments_lexer": "ipython3",
   "version": "3.11.3"
  }
 },
 "nbformat": 4,
 "nbformat_minor": 5
}
